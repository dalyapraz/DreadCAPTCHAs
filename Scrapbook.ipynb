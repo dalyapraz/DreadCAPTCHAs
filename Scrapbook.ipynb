{
 "cells": [
  {
   "cell_type": "code",
   "execution_count": 2,
   "metadata": {},
   "outputs": [],
   "source": [
    "from skimage.color import rgb2gray\n",
    "import numpy as np\n",
    "import cv2\n",
    "import matplotlib.pyplot as plt\n",
    "%matplotlib inline\n",
    "from scipy import ndimage\n",
    "import argparse\n",
    "import os"
   ]
  },
  {
   "cell_type": "code",
   "execution_count": 3,
   "metadata": {},
   "outputs": [
    {
     "name": "stdout",
     "output_type": "stream",
     "text": [
      "(376, 300, 3)\n"
     ]
    },
    {
     "data": {
      "text/plain": [
       "<matplotlib.image.AxesImage at 0x7fceff02d450>"
      ]
     },
     "execution_count": 3,
     "metadata": {},
     "output_type": "execute_result"
    },
    {
     "data": {
      "image/png": "[encoded data removed]",
      "text/plain": [
       "<Figure size 432x288 with 1 Axes>"
      ]
     },
     "metadata": {
      "needs_background": "light"
     },
     "output_type": "display_data"
    }
   ],
   "source": [
    "img = cv2.imread('CAPTCHAs_data/1.jpeg')\n",
    "print(img.shape)\n",
    "plt.imshow(img)"
   ]
  },
  {
   "cell_type": "code",
   "execution_count": 4,
   "metadata": {},
   "outputs": [],
   "source": [
    "def resize(img): \n",
    "    print('Original Dimensions : ',img.shape)\n",
    "    scale_percent = (200/img.shape[1]) # percent of original size\n",
    "    width = int(img.shape[1] * scale_percent)\n",
    "    height = int(img.shape[0] * scale_percent)\n",
    "    dim = (width, height)\n",
    "    # resize image\n",
    "    resized = cv2.resize(img, dim, interpolation = cv2.INTER_AREA)\n",
    "    print('Resized Dimensions : ',resized.shape)\n",
    "    return resized\n"
   ]
  },
  {
   "cell_type": "code",
   "execution_count": 28,
   "metadata": {},
   "outputs": [
    {
     "name": "stdout",
     "output_type": "stream",
     "text": [
      "Original Dimensions :  (1066, 838, 3)\n",
      "Resized Dimensions :  (254, 200, 3)\n",
      "circles found: 1\n",
      "[ 94 110 138 106] (96, 111)\n",
      "[ 74 117  89 118] (96, 111)\n",
      "[ 95 112 119 124] (96, 111)\n",
      "[ 63 100 106 114] (96, 111)\n",
      "[105 123 137 123] (96, 111)\n",
      "[ 63  99  96 126] (96, 111)\n",
      "[105 124 136 124] (96, 111)\n",
      "[ 96 125  96 109] (96, 111)\n",
      "[ 95 111 138 107] (96, 111)\n",
      "[103 106 121 106] (96, 111)\n",
      "[103  94 106 122] (96, 111)\n",
      "Approve? (y/n)y\n",
      "Original Dimensions :  (1044, 776, 3)\n",
      "Resized Dimensions :  (269, 199, 3)\n",
      "circles found: 1\n",
      "[100 112 122 161] (102, 115)\n",
      "[ 97 165 128 117] (102, 115)\n",
      "[ 56 137  80 161] (102, 115)\n",
      "[102 112 110  91] (102, 115)\n",
      "[118 163 146 140] (102, 115)\n",
      "[100 114 128 118] (102, 115)\n",
      "[ 87 124  87  97] (102, 115)\n",
      "[143  85 153 115] (102, 115)\n",
      "[ 89  89  94 105] (102, 115)\n",
      "[ 94 165 126 160] (102, 115)\n",
      "[ 90 117  95  97] (102, 115)\n",
      "[148 102 151 129] (102, 115)\n",
      "[104 132 105 154] (102, 115)\n",
      "[140 144 152 121] (102, 115)\n",
      "[115  66 142  84] (102, 115)\n",
      "[ 86 124  86  97] (102, 115)\n",
      "[103 141 103 115] (102, 115)\n",
      "[ 51 115  57  91] (102, 115)\n",
      "[148 137 151 101] (102, 115)\n",
      "[104 106 109  91] (102, 115)\n",
      "[ 52 114  59 142] (102, 115)\n",
      "[67 78 88 66] (102, 115)\n",
      "[ 78 111  78  96] (102, 115)\n",
      "[137  81 150  99] (102, 115)\n",
      "[104 119 122 159] (102, 115)\n",
      "[ 64 148  90 164] (102, 115)\n",
      "[ 75 158  99 163] (102, 115)\n",
      "[114  68 132  74] (102, 115)\n",
      "[119 163 135 150] (102, 115)\n",
      "[134 154 150 132] (102, 115)\n",
      "[ 58 136  67 152] (102, 115)\n",
      "[126 159 143 145] (102, 115)\n",
      "[ 54 105  59  89] (102, 115)\n",
      "[150 108 152 125] (102, 115)\n",
      "[ 92 165 118 161] (102, 115)\n",
      "[124  69 139  80] (102, 115)\n",
      "Approve? (y/n)y\n",
      "Original Dimensions :  (236, 214, 3)\n",
      "Resized Dimensions :  (220, 200, 3)\n",
      "circles found: 1\n",
      "[ 94 102 123  73] (96, 102)\n",
      "[ 96 115  96  80] (96, 102)\n",
      "[123 116 123  82] (96, 102)\n",
      "[ 56 109  71 134] (96, 102)\n",
      "[ 67 103  79  65] (96, 102)\n",
      "[ 86  94  91 113] (96, 102)\n",
      "[ 81  64 111  64] (96, 102)\n",
      "[ 55 102  65  76] (96, 102)\n",
      "[ 65 128  89 142] (96, 102)\n",
      "[101 112 105  97] (96, 102)\n",
      "[131  81 136 107] (96, 102)\n",
      "[105 142 131 123] (96, 102)\n",
      "[ 97 104 106  82] (96, 102)\n",
      "[ 77 138 107 141] (96, 102)\n",
      "[ 91 142 117 137] (96, 102)\n",
      "[63 79 89 62] (96, 102)\n",
      "[ 58 108  59  85] (96, 102)\n",
      "[117  67 134  88] (96, 102)\n",
      "[122 133 136 109] (96, 102)\n",
      "[ 84  63 108  63] (96, 102)\n",
      "[ 58 117  76 137] (96, 102)\n",
      "[104 100 107  85] (96, 102)\n",
      "[135 109 136  93] (96, 102)\n",
      "[ 92  81 107  82] (96, 102)\n",
      "[110 140 128 127] (96, 102)\n",
      "[58 88 75 67] (96, 102)\n",
      "[ 56 100  67  75] (96, 102)\n",
      "[ 56 107  66 124] (96, 102)\n",
      "[ 56 111  68 131] (96, 102)\n",
      "[111  65 129  78] (96, 102)\n",
      "[ 87  62 105  62] (96, 102)\n",
      "Approve? (y/n)n\n",
      "this image has a problem:  30.jpeg\n"
     ]
    }
   ],
   "source": [
    "path = '/Users/dalyapraz/Desktop/IUPhD/B657 Computer Vision/CAPTCHA project/CAPTCHAs_data'\n",
    "# grab list of files from the directory\n",
    "jpeg_files = [f for f in os.listdir(path) if f.endswith('.jpeg')]\n",
    "for file in jpeg_files:\n",
    "    img = cv2.imread('CAPTCHAs_data/'+file)\n",
    "    img = resize(img)\n",
    "    gray = cv2.cvtColor(img, cv2.COLOR_BGR2GRAY)\n",
    "\n",
    "    # detect circles in the image\n",
    "    circles = cv2.HoughCircles(gray, cv2.HOUGH_GRADIENT, 1.9, 100, minRadius = int(img.shape[1]/5),\\\n",
    "                               maxRadius = int(img.shape[1]/2) )\n",
    "    #output = img.copy()\n",
    "    # Create mask\n",
    "    height,width, dim = img.shape\n",
    "    mask = np.zeros((height,width, dim), np.uint8)\n",
    "\n",
    "    # ensure at least some circles were found\n",
    "    if circles is not None:\n",
    "        # convert the (x, y) coordinates and radius of the circles to integers\n",
    "        circles = np.round(circles[0, :]).astype(\"int\")\n",
    "        print('circles found:', len(circles ))\n",
    "        # loop over the (x, y) coordinates and radius of the circles\n",
    "        for (x, y, r) in circles:\n",
    "            center = (x,y)\n",
    "            # creating luminous image and crop the detected circle\n",
    "            cv2.circle(mask,(x, y), r,(255,255,255),thickness=-1)\n",
    "            # apply mask to image with the detected area inside the circle\n",
    "            output = cv2.bitwise_and(img, mask)\n",
    "\n",
    "            # Define lower and uppper limits of what we call \"brown\"\n",
    "            lo=np.array([0,0,0])\n",
    "            hi=np.array([0,0,0])\n",
    "            \n",
    "            # Mask image to only select brown\n",
    "            mask=cv2.inRange(output,lo,hi)\n",
    "            \n",
    "            # Change image to red where we found brown\n",
    "            output[mask>0]=(255,255,255)\n",
    "            break\n",
    "        # show the output image\n",
    "        output = cv2.cvtColor(output, cv2.COLOR_BGR2GRAY)\n",
    "        #wide = cv2.Canny(output, 10, 200)\n",
    "        #mid = cv2.Canny(output, 30, 150)\n",
    "        #tight = cv2.Canny(output, 240, 250)\n",
    "        #plt.imshow(np.hstack([gray, tight]))\n",
    "        binary = cv2.threshold(output, 200, 255, cv2.THRESH_BINARY)[1]\n",
    "        binary = cv2.bitwise_not(binary)\n",
    "        linesP = cv2.HoughLinesP(binary, rho=1,theta=np.pi/60, threshold=15, minLineLength=15, maxLineGap=3)\n",
    "        if linesP is not None:\n",
    "            for i in range(0, len(linesP)):\n",
    "                l = linesP[i][0]\n",
    "                #if (l[0] in range(center[0]-5, center[0]+6) and l[1] in range(center[1]-5, center[1]+6)) or \\\n",
    "                #        (l[2] in range(center[0]-5, center[0]+6) and l[3] in range(center[1]-5, center[1]+6)):\n",
    "                print(l, center)\n",
    "                cv2.line(mask, (l[0], l[1]), (l[2], l[3]), (255,255,255), 1, cv2.LINE_AA)\n",
    "        cv2.circle(mask,center, 2,(255,255,255),thickness=-1)            \n",
    "        final = cv2.bitwise_not(mask)\n",
    "        cv2.imshow(\"output\", np.hstack([gray, binary, final]))\n",
    "        cv2.waitKey(0)\n",
    "        cv2.destroyAllWindows()\n",
    "        cv2.waitKey(1)\n",
    "        #plt.imshow(np.hstack([img, output]))\n",
    "        approve = input(\"Approve? (y/n)\")\n",
    "        if approve != 'y':\n",
    "            print('this image has a problem: ',file)\n",
    "            break\n",
    "    else:\n",
    "        print('No circles found: ', file)"
   ]
  },
  {
   "cell_type": "code",
   "execution_count": null,
   "metadata": {},
   "outputs": [],
   "source": []
  }
 ],
 "metadata": {
  "kernelspec": {
   "display_name": "Python 3",
   "language": "python",
   "name": "python3"
  },
  "language_info": {
   "codemirror_mode": {
    "name": "ipython",
    "version": 3
   },
   "file_extension": ".py",
   "mimetype": "text/x-python",
   "name": "python",
   "nbconvert_exporter": "python",
   "pygments_lexer": "ipython3",
   "version": "3.7.4"
  }
 },
 "nbformat": 4,
 "nbformat_minor": 2
}
