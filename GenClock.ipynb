{
 "cells": [
  {
   "cell_type": "code",
   "execution_count": 60,
   "metadata": {},
   "outputs": [],
   "source": [
    "from skimage.color import rgb2gray\n",
    "import numpy as np\n",
    "import cv2\n",
    "import matplotlib.pyplot as plt\n",
    "%matplotlib inline\n",
    "from scipy import ndimage\n",
    "import argparse\n",
    "import os\n",
    "import SynClock as SC"
   ]
  },
  {
   "cell_type": "code",
   "execution_count": 342,
   "metadata": {},
   "outputs": [],
   "source": [
    "import numpy as np\n",
    "import cv2\n",
    "import math\n",
    "import random\n",
    "\n",
    "def truefalse(p):\n",
    "\treturn random.random() < p\n",
    "\n",
    "def intminmax(mi, ma):\n",
    "\treturn random.choice(range(mi, ma+1))\n",
    "\n",
    "def minmax(mi, ma):\n",
    "\treturn np.random.uniform(mi,ma)\n",
    "\n",
    "def rand_colour(p_gray=0, p_light=0, p_dark=0, p_red=0):\n",
    "\txmin = 0; xmax = 255;\n",
    "\tgray = random.random() < p_gray\n",
    "\tif gray:\n",
    "\t\tx = random.choice(range(xmin,xmax))\n",
    "\t\treturn (x, x, x)\n",
    "\tlight = random.random() < p_light\n",
    "\tif light: \n",
    "\t\txmin  = 200;\n",
    "\t\tx = random.choice(range(xmin,xmax))\n",
    "\t\treturn (x, x, x)\n",
    "\tdark = random.random() < p_dark\n",
    "\tif dark: \n",
    "\t\txmax = 100;\n",
    "\t\tx = random.choice(range(xmin,xmax))\n",
    "\t\treturn (x, x, x)\n",
    "\t\n",
    "\txmin = 50; ymin = 50; zmin = 50;\n",
    "\txmax = 200; ymax = 200; zmax = 200;\n",
    "\tred = random.random() < p_red\n",
    "\tif red:\n",
    "\t\txmin = 0; ymin = 0; zmin = 127;\n",
    "\t\txmax = 100; ymax = 100; zmax = 255;\n",
    "\tx = random.choice(range(xmin,xmax))\n",
    "\ty = random.choice(range(ymin,ymax))\n",
    "\tz = random.choice(range(zmin,zmax))\n",
    "\treturn (x, y, z)\n",
    "\n",
    "def get_coordinates(cx, cy, r, scale, back_scale, a):\n",
    "\tx1 = (cx + scale*r * np.cos(a * math.pi/180)).astype(int)\n",
    "\ty1 = (cy + scale*r * np.sin(a * math.pi/180)).astype(int)\n",
    "\tx2 = (cx + back_scale*r * np.cos(a * math.pi/180)).astype(int)\n",
    "\ty2 = (cy + back_scale*r * np.sin(a * math.pi/180)).astype(int)\n",
    "\treturn (x1, y1), (x2, y2)\n",
    "\n",
    "def draw_line(img, source, dest, colour, thickness, arrow=False, arrow_scale=None, tip_length=None, rand=False):\n",
    "\timg = cv2.line(img, source, dest, colour, thickness)\n",
    "\tx1, y1 = source\n",
    "\tx2, y2 = dest\n",
    "\n",
    "\treturn img\n",
    "\n",
    "def draw_random_lines(img, cx, cy, r, R, num=3):\n",
    "\n",
    "\tfor _ in range(num):\n",
    "\t\tr1 = intminmax(r,R)\n",
    "\t\tr2 = intminmax(r,R)\n",
    "\t\tr3 = intminmax(r,R)\n",
    "\t\ttheta1 = minmax(0, 360)\n",
    "\t\ttheta2 = minmax(0, 360)\n",
    "\t\ttheta3 = minmax(0, 360)\n",
    "\t\tcolour = (0,0,0)\n",
    "\t\tthickness = intminmax(1,2)\n",
    "\n",
    "\t\tx1 = (cx + r1 * np.cos(theta1 * math.pi/180)).astype(int)\n",
    "\t\ty1 = (cy + r1 * np.sin(theta1 * math.pi/180)).astype(int)\n",
    "\t\tx2 = (cx + r2 * np.cos(theta2 * math.pi/180)).astype(int)\n",
    "\t\ty2 = (cy + r2 * np.sin(theta2 * math.pi/180)).astype(int)\n",
    "\t\tx3 = (cx + r3 * np.cos(theta3 * math.pi/180)).astype(int)\n",
    "\t\ty3 = (cy + r3 * np.sin(theta3 * math.pi/180)).astype(int)\n",
    "        \n",
    "\t\ttriangle = truefalse(0.5)\n",
    "\t\tif triangle:\n",
    "\t\t\tcv2.line(img, (x1, y1), (x2, y2), colour, thickness)\n",
    "\t\t\tcv2.line(img, (x2, y2), (x3, y3), colour, thickness)\n",
    "\t\t\tcv2.line(img, (x3, y3), (x1, y1), colour, thickness)\n",
    "\t\telse:\n",
    "\t\t\timg_shadow = cv2.line(img, (x1, y1), (x2, y2), colour, thickness)\n",
    "\treturn img\n",
    "\n",
    "\n",
    "def gen_clock(use_artefacts=True):\n",
    "\t#hyperparameters:\n",
    "\t#canvas\n",
    "\tH = 300\n",
    "\tW = 300\n",
    "\th = 250 #intminmax(384, 512)\n",
    "\tw = h \n",
    "\tcanvas_background_colour = (0, 0, 0)\n",
    "\thmax = 0\n",
    "\n",
    "\t#clock shape\n",
    "\tclock_center_coordinates = (h//2, w//2)\n",
    "\tclock_border_thickness = intminmax(0, 1)\n",
    "\tclock_radius = (min(h,w)//2 - clock_border_thickness//2 -1)\n",
    "\tclock_background_colour = (255,255,255) #if truefalse(0.7) else rand_colour(p_gray=0.2)\n",
    "\n",
    "\n",
    "\t#hands\n",
    "\tuse_second_hand = truefalse(0.0)\n",
    "\ttime_hour = intminmax(0, 12)\n",
    "\ttime_minute = intminmax(0, 60)\n",
    "\ttime_second = intminmax(0, 60)\n",
    "\n",
    "\n",
    "\tmin_scale = minmax(0.5, 1)\n",
    "\tmin_back_scale = 0 if truefalse(0.3) else minmax(-0.15, 0.15)\n",
    "\tmin_colour = (0,0,0)\n",
    "\tmin_thickness = intminmax(1,3)\n",
    "\n",
    "\thr_scale = minmax(0.3, min_scale)\n",
    "\thr_back_scale = 0 if truefalse(0.3) else minmax(-0.15, 0.15)\n",
    "\thr_colour = (0,0,0)\n",
    "\thr_thickness = intminmax(1,3)\n",
    "\n",
    "\t#circle\n",
    "\tcircle_radius = intminmax(1,5)\n",
    "\tcircle_colour = (0,0,0)\n",
    "\n",
    "\t#create background\n",
    "\timg = np.zeros((h, w, 3), np.uint8)\n",
    "\timg[:] = canvas_background_colour\n",
    "\n",
    "\t#random lines\n",
    "\tif use_artefacts:\n",
    "\t\tnum_random_lines = intminmax(0, 5)\n",
    "\n",
    "\n",
    "\t#create clock\n",
    "\timg = cv2.circle(img, clock_center_coordinates, clock_radius, clock_background_colour, cv2.FILLED)\n",
    "\timg = cv2.circle(img, clock_center_coordinates, clock_radius, clock_border_thickness)\n",
    "\n",
    "\n",
    "\t#create ticks\n",
    "\tcy, cx = clock_center_coordinates\n",
    "\tr = clock_radius\n",
    "\ta = np.arange(60)*6\n",
    "\tacos = np.cos(a * math.pi/180)\n",
    "\tasin = np.sin(a * math.pi/180)\n",
    "\n",
    "\t#hands\n",
    "\n",
    "\tsecond = time_second\n",
    "\ta_second = second * 6 - 90\n",
    "\n",
    "\tminute = time_minute + second/60\n",
    "\ta_minute = minute * 6 - 90\n",
    "\tsource, dest = get_coordinates(cx, cy, r, min_scale, min_back_scale, a_minute)\n",
    "\timg = draw_line(img, source, dest, min_colour, min_thickness)\n",
    "\n",
    "\thour = time_hour + minute/60\n",
    "\ta_hour = hour * 30 - 90\n",
    "\tsource, dest = get_coordinates(cx, cy, r, hr_scale, hr_back_scale, a_hour)\n",
    "\timg = draw_line(img, source, dest, hr_colour, hr_thickness)\n",
    "\t\n",
    "\tif use_artefacts:\n",
    "\t\timg = draw_random_lines(img, cx, cy, circle_radius, r, num=num_random_lines)\n",
    "\n",
    "\t#circle\n",
    "\timg = cv2.circle(img, clock_center_coordinates, circle_radius, circle_colour, cv2.FILLED)\n",
    "\n",
    "\treturn img, time_hour, time_minute"
   ]
  },
  {
   "cell_type": "code",
   "execution_count": 344,
   "metadata": {},
   "outputs": [
    {
     "name": "stdout",
     "output_type": "stream",
     "text": [
      "1 : 49\n"
     ]
    },
    {
     "data": {
      "text/plain": [
       "<matplotlib.image.AxesImage at 0x7f7ab06c22d0>"
      ]
     },
     "execution_count": 344,
     "metadata": {},
     "output_type": "execute_result"
    },
    {
     "data": {
      "image/png": "[encoded data removed]",
      "text/plain": [
       "<Figure size 432x288 with 1 Axes>"
      ]
     },
     "metadata": {
      "needs_background": "light"
     },
     "output_type": "display_data"
    }
   ],
   "source": [
    "img, hour, minute= gen_clock(use_artefacts=True)\n",
    "print(hour,\":\", minute)\n",
    "plt.imshow(img)"
   ]
  },
  {
   "cell_type": "code",
   "execution_count": 355,
   "metadata": {},
   "outputs": [],
   "source": [
    "import os\n",
    "import time\n",
    "import torch\n",
    "import einops\n",
    "import random\n",
    "import numpy as np\n",
    "import torch.optim as optim\n",
    "import torch.nn as nn\n",
    "import torchvision.models as models\n",
    "from tensorboardX import SummaryWriter\n",
    "from datetime import datetime\n",
    "from argparse import ArgumentParser\n",
    "from torch.utils.data import DataLoader\n",
    "from utils import warp, update_train_log, write_train_log, update_eval_log, write_eval_log\n",
    "\n",
    "dt_string = datetime.now().strftime(\"%m_%d_%H_%M\")\n",
    "writer = SummaryWriter(logdir='../logs/{}'.format(dt_string))\n",
    "\n",
    "# DATASET\n",
    "trn_dataset = gen_clock(use_artefacts=True)\n",
    "trn_loader = DataLoader(trn_dataset, batch_size=30, shuffle=True)\n"
   ]
  },
  {
   "cell_type": "code",
   "execution_count": 356,
   "metadata": {},
   "outputs": [
    {
     "data": {
      "text/plain": [
       "<torch.utils.data.dataloader.DataLoader at 0x7f7ab5f1aad0>"
      ]
     },
     "execution_count": 356,
     "metadata": {},
     "output_type": "execute_result"
    }
   ],
   "source": [
    "trn_loader"
   ]
  },
  {
   "cell_type": "code",
   "execution_count": 362,
   "metadata": {},
   "outputs": [
    {
     "ename": "RuntimeError",
     "evalue": "module compiled against API version 0xe but this version of numpy is 0xd",
     "output_type": "error",
     "traceback": [
      "\u001b[0;31m---------------------------------------------------------------------------\u001b[0m",
      "\u001b[0;31mRuntimeError\u001b[0m                              Traceback (most recent call last)",
      "\u001b[0;31mRuntimeError\u001b[0m: module compiled against API version 0xe but this version of numpy is 0xd"
     ]
    },
    {
     "ename": "ImportError",
     "evalue": "SystemError: <built-in method __contains__ of dict object at 0x7f7aaae6e780> returned a result with an error set",
     "output_type": "error",
     "traceback": [
      "\u001b[0;31m---------------------------------------------------------------------------\u001b[0m",
      "\u001b[0;31mImportError\u001b[0m                               Traceback (most recent call last)",
      "\u001b[0;32m<ipython-input-362-2bf4e883bc11>\u001b[0m in \u001b[0;36m<module>\u001b[0;34m\u001b[0m\n\u001b[1;32m      5\u001b[0m \u001b[0;32mimport\u001b[0m \u001b[0mos\u001b[0m\u001b[0;34m\u001b[0m\u001b[0;34m\u001b[0m\u001b[0m\n\u001b[1;32m      6\u001b[0m \u001b[0;32mimport\u001b[0m \u001b[0mmatplotlib\u001b[0m\u001b[0;34m.\u001b[0m\u001b[0mpyplot\u001b[0m \u001b[0;32mas\u001b[0m \u001b[0mplt\u001b[0m\u001b[0;34m\u001b[0m\u001b[0;34m\u001b[0m\u001b[0m\n\u001b[0;32m----> 7\u001b[0;31m \u001b[0;32mimport\u001b[0m \u001b[0mtensorflow\u001b[0m \u001b[0;32mas\u001b[0m \u001b[0mtf\u001b[0m\u001b[0;34m\u001b[0m\u001b[0;34m\u001b[0m\u001b[0m\n\u001b[0m\u001b[1;32m      8\u001b[0m \u001b[0;32mfrom\u001b[0m \u001b[0mtensorflow\u001b[0m\u001b[0;34m.\u001b[0m\u001b[0mkeras\u001b[0m\u001b[0;34m.\u001b[0m\u001b[0mutils\u001b[0m \u001b[0;32mimport\u001b[0m \u001b[0mto_categorical\u001b[0m\u001b[0;34m\u001b[0m\u001b[0;34m\u001b[0m\u001b[0m\n\u001b[1;32m      9\u001b[0m \u001b[0;32mfrom\u001b[0m \u001b[0mtensorflow\u001b[0m\u001b[0;34m.\u001b[0m\u001b[0mkeras\u001b[0m\u001b[0;34m.\u001b[0m\u001b[0mpreprocessing\u001b[0m \u001b[0;32mimport\u001b[0m \u001b[0mimage\u001b[0m\u001b[0;34m\u001b[0m\u001b[0;34m\u001b[0m\u001b[0m\n",
      "\u001b[0;32m~/opt/anaconda3/lib/python3.7/site-packages/tensorflow/__init__.py\u001b[0m in \u001b[0;36m<module>\u001b[0;34m\u001b[0m\n\u001b[1;32m     35\u001b[0m \u001b[0;32mimport\u001b[0m \u001b[0mtyping\u001b[0m \u001b[0;32mas\u001b[0m \u001b[0m_typing\u001b[0m\u001b[0;34m\u001b[0m\u001b[0;34m\u001b[0m\u001b[0m\n\u001b[1;32m     36\u001b[0m \u001b[0;34m\u001b[0m\u001b[0m\n\u001b[0;32m---> 37\u001b[0;31m \u001b[0;32mfrom\u001b[0m \u001b[0mtensorflow\u001b[0m\u001b[0;34m.\u001b[0m\u001b[0mpython\u001b[0m\u001b[0;34m.\u001b[0m\u001b[0mtools\u001b[0m \u001b[0;32mimport\u001b[0m \u001b[0mmodule_util\u001b[0m \u001b[0;32mas\u001b[0m \u001b[0m_module_util\u001b[0m\u001b[0;34m\u001b[0m\u001b[0;34m\u001b[0m\u001b[0m\n\u001b[0m\u001b[1;32m     38\u001b[0m \u001b[0;32mfrom\u001b[0m \u001b[0mtensorflow\u001b[0m\u001b[0;34m.\u001b[0m\u001b[0mpython\u001b[0m\u001b[0;34m.\u001b[0m\u001b[0mutil\u001b[0m\u001b[0;34m.\u001b[0m\u001b[0mlazy_loader\u001b[0m \u001b[0;32mimport\u001b[0m \u001b[0mLazyLoader\u001b[0m \u001b[0;32mas\u001b[0m \u001b[0m_LazyLoader\u001b[0m\u001b[0;34m\u001b[0m\u001b[0;34m\u001b[0m\u001b[0m\n\u001b[1;32m     39\u001b[0m \u001b[0;34m\u001b[0m\u001b[0m\n",
      "\u001b[0;32m~/opt/anaconda3/lib/python3.7/site-packages/tensorflow/python/__init__.py\u001b[0m in \u001b[0;36m<module>\u001b[0;34m\u001b[0m\n\u001b[1;32m     35\u001b[0m \u001b[0;34m\u001b[0m\u001b[0m\n\u001b[1;32m     36\u001b[0m \u001b[0;32mfrom\u001b[0m \u001b[0mtensorflow\u001b[0m\u001b[0;34m.\u001b[0m\u001b[0mpython\u001b[0m \u001b[0;32mimport\u001b[0m \u001b[0mpywrap_tensorflow\u001b[0m \u001b[0;32mas\u001b[0m \u001b[0m_pywrap_tensorflow\u001b[0m\u001b[0;34m\u001b[0m\u001b[0;34m\u001b[0m\u001b[0m\n\u001b[0;32m---> 37\u001b[0;31m \u001b[0;32mfrom\u001b[0m \u001b[0mtensorflow\u001b[0m\u001b[0;34m.\u001b[0m\u001b[0mpython\u001b[0m\u001b[0;34m.\u001b[0m\u001b[0meager\u001b[0m \u001b[0;32mimport\u001b[0m \u001b[0mcontext\u001b[0m\u001b[0;34m\u001b[0m\u001b[0;34m\u001b[0m\u001b[0m\n\u001b[0m\u001b[1;32m     38\u001b[0m \u001b[0;34m\u001b[0m\u001b[0m\n\u001b[1;32m     39\u001b[0m \u001b[0;31m# pylint: enable=wildcard-import\u001b[0m\u001b[0;34m\u001b[0m\u001b[0;34m\u001b[0m\u001b[0;34m\u001b[0m\u001b[0m\n",
      "\u001b[0;32m~/opt/anaconda3/lib/python3.7/site-packages/tensorflow/python/eager/context.py\u001b[0m in \u001b[0;36m<module>\u001b[0;34m\u001b[0m\n\u001b[1;32m     33\u001b[0m \u001b[0;32mfrom\u001b[0m \u001b[0mtensorflow\u001b[0m\u001b[0;34m.\u001b[0m\u001b[0mpython\u001b[0m \u001b[0;32mimport\u001b[0m \u001b[0mpywrap_tfe\u001b[0m\u001b[0;34m\u001b[0m\u001b[0;34m\u001b[0m\u001b[0m\n\u001b[1;32m     34\u001b[0m \u001b[0;32mfrom\u001b[0m \u001b[0mtensorflow\u001b[0m\u001b[0;34m.\u001b[0m\u001b[0mpython\u001b[0m \u001b[0;32mimport\u001b[0m \u001b[0mtf2\u001b[0m\u001b[0;34m\u001b[0m\u001b[0;34m\u001b[0m\u001b[0m\n\u001b[0;32m---> 35\u001b[0;31m \u001b[0;32mfrom\u001b[0m \u001b[0mtensorflow\u001b[0m\u001b[0;34m.\u001b[0m\u001b[0mpython\u001b[0m\u001b[0;34m.\u001b[0m\u001b[0mclient\u001b[0m \u001b[0;32mimport\u001b[0m \u001b[0mpywrap_tf_session\u001b[0m\u001b[0;34m\u001b[0m\u001b[0;34m\u001b[0m\u001b[0m\n\u001b[0m\u001b[1;32m     36\u001b[0m \u001b[0;32mfrom\u001b[0m \u001b[0mtensorflow\u001b[0m\u001b[0;34m.\u001b[0m\u001b[0mpython\u001b[0m\u001b[0;34m.\u001b[0m\u001b[0meager\u001b[0m \u001b[0;32mimport\u001b[0m \u001b[0mexecutor\u001b[0m\u001b[0;34m\u001b[0m\u001b[0;34m\u001b[0m\u001b[0m\n\u001b[1;32m     37\u001b[0m \u001b[0;32mfrom\u001b[0m \u001b[0mtensorflow\u001b[0m\u001b[0;34m.\u001b[0m\u001b[0mpython\u001b[0m\u001b[0;34m.\u001b[0m\u001b[0meager\u001b[0m \u001b[0;32mimport\u001b[0m \u001b[0mmonitoring\u001b[0m\u001b[0;34m\u001b[0m\u001b[0;34m\u001b[0m\u001b[0m\n",
      "\u001b[0;32m~/opt/anaconda3/lib/python3.7/site-packages/tensorflow/python/client/pywrap_tf_session.py\u001b[0m in \u001b[0;36m<module>\u001b[0;34m\u001b[0m\n\u001b[1;32m     17\u001b[0m \u001b[0;31m# pylint: disable=invalid-import-order,g-bad-import-order, wildcard-import, unused-import\u001b[0m\u001b[0;34m\u001b[0m\u001b[0;34m\u001b[0m\u001b[0;34m\u001b[0m\u001b[0m\n\u001b[1;32m     18\u001b[0m \u001b[0;32mfrom\u001b[0m \u001b[0mtensorflow\u001b[0m\u001b[0;34m.\u001b[0m\u001b[0mpython\u001b[0m \u001b[0;32mimport\u001b[0m \u001b[0mpywrap_tensorflow\u001b[0m\u001b[0;34m\u001b[0m\u001b[0;34m\u001b[0m\u001b[0m\n\u001b[0;32m---> 19\u001b[0;31m \u001b[0;32mfrom\u001b[0m \u001b[0mtensorflow\u001b[0m\u001b[0;34m.\u001b[0m\u001b[0mpython\u001b[0m\u001b[0;34m.\u001b[0m\u001b[0mclient\u001b[0m\u001b[0;34m.\u001b[0m\u001b[0m_pywrap_tf_session\u001b[0m \u001b[0;32mimport\u001b[0m \u001b[0;34m*\u001b[0m\u001b[0;34m\u001b[0m\u001b[0;34m\u001b[0m\u001b[0m\n\u001b[0m\u001b[1;32m     20\u001b[0m \u001b[0;32mfrom\u001b[0m \u001b[0mtensorflow\u001b[0m\u001b[0;34m.\u001b[0m\u001b[0mpython\u001b[0m\u001b[0;34m.\u001b[0m\u001b[0mclient\u001b[0m\u001b[0;34m.\u001b[0m\u001b[0m_pywrap_tf_session\u001b[0m \u001b[0;32mimport\u001b[0m \u001b[0m_TF_SetTarget\u001b[0m\u001b[0;34m\u001b[0m\u001b[0;34m\u001b[0m\u001b[0m\n\u001b[1;32m     21\u001b[0m \u001b[0;32mfrom\u001b[0m \u001b[0mtensorflow\u001b[0m\u001b[0;34m.\u001b[0m\u001b[0mpython\u001b[0m\u001b[0;34m.\u001b[0m\u001b[0mclient\u001b[0m\u001b[0;34m.\u001b[0m\u001b[0m_pywrap_tf_session\u001b[0m \u001b[0;32mimport\u001b[0m \u001b[0m_TF_SetConfig\u001b[0m\u001b[0;34m\u001b[0m\u001b[0;34m\u001b[0m\u001b[0m\n",
      "\u001b[0;31mImportError\u001b[0m: SystemError: <built-in method __contains__ of dict object at 0x7f7aaae6e780> returned a result with an error set"
     ]
    }
   ],
   "source": [
    "import numpy as np # linear algebra\n",
    "import pandas as pd # data processing, CSV file I/O (e.g. pd.read_csv)\n",
    "import gc\n",
    "import random\n",
    "import os\n",
    "import matplotlib.pyplot as plt\n",
    "import tensorflow as tf\n",
    "from tensorflow.keras.utils import to_categorical\n",
    "from tensorflow.keras.preprocessing import image\n",
    "from tensorflow.keras.layers import *\n",
    "from tensorflow.keras.models import Sequential, Model\n",
    "from tensorflow.keras.applications import xception\n",
    "from sklearn.preprocessing import MultiLabelBinarizer\n",
    "from sklearn.model_selection import train_test_split"
   ]
  },
  {
   "cell_type": "code",
   "execution_count": null,
   "metadata": {},
   "outputs": [],
   "source": []
  }
 ],
 "metadata": {
  "kernelspec": {
   "display_name": "Python 3",
   "language": "python",
   "name": "python3"
  },
  "language_info": {
   "codemirror_mode": {
    "name": "ipython",
    "version": 3
   },
   "file_extension": ".py",
   "mimetype": "text/x-python",
   "name": "python",
   "nbconvert_exporter": "python",
   "pygments_lexer": "ipython3",
   "version": "3.7.4"
  }
 },
 "nbformat": 4,
 "nbformat_minor": 2
}
