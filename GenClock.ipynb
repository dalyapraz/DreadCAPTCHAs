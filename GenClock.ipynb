{
  "cells": [
    {
      "cell_type": "code",
      "execution_count": 1,
      "metadata": {
        "id": "Qg8eI-ON5ABp"
      },
      "outputs": [],
      "source": [
        "from skimage.color import rgb2gray\n",
        "import numpy as np\n",
        "import cv2\n",
        "import matplotlib.pyplot as plt\n",
        "%matplotlib inline\n",
        "from scipy import ndimage\n",
        "import argparse\n",
        "import os"
      ]
    },
    {
      "cell_type": "code",
      "execution_count": 2,
      "metadata": {
        "id": "h0kArlX15ABr"
      },
      "outputs": [],
      "source": [
        "# the below code is an adaptation of SynClock\n",
        "# https://github.com/charigyang/itsabouttime/tree/main/src\n",
        "import numpy as np\n",
        "import cv2\n",
        "import math\n",
        "import random\n",
        "\n",
        "def truefalse(p):\n",
        "\treturn random.random() < p\n",
        "\n",
        "def intminmax(mi, ma):\n",
        "\treturn random.choice(range(mi, ma+1))\n",
        "\n",
        "def minmax(mi, ma):\n",
        "\treturn np.random.uniform(mi,ma)\n",
        "\n",
        "def rand_colour(p_gray=0, p_light=0, p_dark=0, p_red=0):\n",
        "\txmin = 0; xmax = 255;\n",
        "\tgray = random.random() < p_gray\n",
        "\tif gray:\n",
        "\t\tx = random.choice(range(xmin,xmax))\n",
        "\t\treturn (x, x, x)\n",
        "\tlight = random.random() < p_light\n",
        "\tif light: \n",
        "\t\txmin  = 200;\n",
        "\t\tx = random.choice(range(xmin,xmax))\n",
        "\t\treturn (x, x, x)\n",
        "\tdark = random.random() < p_dark\n",
        "\tif dark: \n",
        "\t\txmax = 100;\n",
        "\t\tx = random.choice(range(xmin,xmax))\n",
        "\t\treturn (x, x, x)\n",
        "\t\n",
        "\txmin = 50; ymin = 50; zmin = 50;\n",
        "\txmax = 200; ymax = 200; zmax = 200;\n",
        "\tred = random.random() < p_red\n",
        "\tif red:\n",
        "\t\txmin = 0; ymin = 0; zmin = 127;\n",
        "\t\txmax = 100; ymax = 100; zmax = 255;\n",
        "\tx = random.choice(range(xmin,xmax))\n",
        "\ty = random.choice(range(ymin,ymax))\n",
        "\tz = random.choice(range(zmin,zmax))\n",
        "\treturn (x, y, z)\n",
        "\n",
        "def get_coordinates(cx, cy, r, scale, back_scale, a):\n",
        "\tx1 = (cx + scale*r * np.cos(a * math.pi/180)).astype(int)\n",
        "\ty1 = (cy + scale*r * np.sin(a * math.pi/180)).astype(int)\n",
        "\tx2 = (cx + back_scale*r * np.cos(a * math.pi/180)).astype(int)\n",
        "\ty2 = (cy + back_scale*r * np.sin(a * math.pi/180)).astype(int)\n",
        "\treturn (x1, y1), (x2, y2)\n",
        "\n",
        "def draw_line(img, source, dest, colour, thickness, arrow=False, arrow_scale=None, tip_length=None, rand=False):\n",
        "\timg = cv2.line(img, source, dest, colour, thickness)\n",
        "\tx1, y1 = source\n",
        "\tx2, y2 = dest\n",
        "\n",
        "\treturn img\n",
        "\n",
        "def draw_random_lines(img, cx, cy, r, R, num=3):\n",
        "\n",
        "\tfor _ in range(num):\n",
        "\t\tr1 = intminmax(r,R)\n",
        "\t\tr2 = intminmax(r,R)\n",
        "\t\tr3 = intminmax(r,R)\n",
        "\t\ttheta1 = minmax(0, 360)\n",
        "\t\ttheta2 = minmax(0, 360)\n",
        "\t\ttheta3 = minmax(0, 360)\n",
        "\t\tcolour = (0,0,0)\n",
        "\t\tthickness = intminmax(1,2)\n",
        "\n",
        "\t\tx1 = (cx + r1 * np.cos(theta1 * math.pi/180)).astype(int)\n",
        "\t\ty1 = (cy + r1 * np.sin(theta1 * math.pi/180)).astype(int)\n",
        "\t\tx2 = (cx + r2 * np.cos(theta2 * math.pi/180)).astype(int)\n",
        "\t\ty2 = (cy + r2 * np.sin(theta2 * math.pi/180)).astype(int)\n",
        "\t\tx3 = (cx + r3 * np.cos(theta3 * math.pi/180)).astype(int)\n",
        "\t\ty3 = (cy + r3 * np.sin(theta3 * math.pi/180)).astype(int)\n",
        "        \n",
        "\t\ttriangle = truefalse(0.5)\n",
        "\t\tif triangle:\n",
        "\t\t\tcv2.line(img, (x1, y1), (x2, y2), colour, thickness)\n",
        "\t\t\tcv2.line(img, (x2, y2), (x3, y3), colour, thickness)\n",
        "\t\t\tcv2.line(img, (x3, y3), (x1, y1), colour, thickness)\n",
        "\t\telse:\n",
        "\t\t\timg_shadow = cv2.line(img, (x1, y1), (x2, y2), colour, thickness)\n",
        "\treturn img\n",
        "\n",
        "\n",
        "def gen_clock(use_artefacts=True):\n",
        "\t#hyperparameters:\n",
        "\t#canvas\n",
        "\tH = 300\n",
        "\tW = 300\n",
        "\th = 250 #intminmax(384, 512)\n",
        "\tw = h \n",
        "\tcanvas_background_colour = (0, 0, 0)\n",
        "\thmax = 0\n",
        "\n",
        "\t#clock shape\n",
        "\tclock_center_coordinates = (h//2, w//2)\n",
        "\tclock_border_thickness = intminmax(0, 1)\n",
        "\tclock_radius = (min(h,w)//2 - clock_border_thickness//2 -1)\n",
        "\tclock_background_colour = (255,255,255) #if truefalse(0.7) else rand_colour(p_gray=0.2)\n",
        "\n",
        "\n",
        "\t#hands\n",
        "\tuse_second_hand = truefalse(0.0)\n",
        "\ttime_hour = intminmax(1, 12)\n",
        "\ttime_minute = intminmax(0, 59)\n",
        "\ttime_second = intminmax(0, 59)\n",
        "\n",
        "\n",
        "\tmin_scale = minmax(0.5, 1)\n",
        "\tmin_back_scale = 0 if truefalse(0.3) else minmax(-0.15, 0.15)\n",
        "\tmin_colour = (0,0,0)\n",
        "\tmin_thickness = intminmax(1,3)\n",
        "\n",
        "\thr_scale = minmax(0.3, min_scale)\n",
        "\thr_back_scale = 0 if truefalse(0.3) else minmax(-0.15, 0.15)\n",
        "\thr_colour = (0,0,0)\n",
        "\thr_thickness = intminmax(1,3)\n",
        "\n",
        "\t#circle\n",
        "\tcircle_radius = intminmax(1,5)\n",
        "\tcircle_colour = (0,0,0)\n",
        "\n",
        "\t#create background\n",
        "\timg = np.zeros((h, w, 3), np.uint8)\n",
        "\timg[:] = canvas_background_colour\n",
        "\n",
        "\t#random lines\n",
        "\tif use_artefacts:\n",
        "\t\tnum_random_lines = intminmax(0, 5)\n",
        "\n",
        "\n",
        "\t#create clock\n",
        "\timg = cv2.circle(img, clock_center_coordinates, clock_radius, clock_background_colour, cv2.FILLED)\n",
        "\timg = cv2.circle(img, clock_center_coordinates, clock_radius, clock_border_thickness)\n",
        "\n",
        "\n",
        "\t#create ticks\n",
        "\tcy, cx = clock_center_coordinates\n",
        "\tr = clock_radius\n",
        "\ta = np.arange(60)*6\n",
        "\tacos = np.cos(a * math.pi/180)\n",
        "\tasin = np.sin(a * math.pi/180)\n",
        "\n",
        "\t#hands\n",
        "\n",
        "\tsecond = time_second\n",
        "\ta_second = second * 6 - 90\n",
        "\n",
        "\tminute = time_minute + second/60\n",
        "\ta_minute = minute * 6 - 90\n",
        "\tsource, dest = get_coordinates(cx, cy, r, min_scale, min_back_scale, a_minute)\n",
        "\timg = draw_line(img, source, dest, min_colour, min_thickness)\n",
        "\n",
        "\thour = time_hour + minute/60\n",
        "\ta_hour = hour * 30 - 90\n",
        "\tsource, dest = get_coordinates(cx, cy, r, hr_scale, hr_back_scale, a_hour)\n",
        "\timg = draw_line(img, source, dest, hr_colour, hr_thickness)\n",
        "\t\n",
        "\tif use_artefacts:\n",
        "\t\timg = draw_random_lines(img, cx, cy, circle_radius, r, num=num_random_lines)\n",
        "\n",
        "\t#circle\n",
        "\timg = cv2.circle(img, clock_center_coordinates, circle_radius, circle_colour, cv2.FILLED)\n",
        "\n",
        "\treturn img, time_hour, time_minute"
      ]
    },
    {
      "cell_type": "code",
      "execution_count": 3,
      "metadata": {
        "id": "SxhHNIwa5ABx",
        "outputId": "e010dd16-19fd-4ad0-9140-0dffda193061",
        "colab": {
          "base_uri": "https://localhost:8080/",
          "height": 304
        }
      },
      "outputs": [
        {
          "output_type": "stream",
          "name": "stdout",
          "text": [
            "7 : 38\n"
          ]
        },
        {
          "output_type": "execute_result",
          "data": {
            "text/plain": [
              "<matplotlib.image.AxesImage at 0x7f8768ee3e90>"
            ]
          },
          "metadata": {},
          "execution_count": 3
        },
        {
          "output_type": "display_data",
          "data": {
            "text/plain": [
              "<Figure size 432x288 with 1 Axes>"
            ],
            "image/png": "[encoded data removed]"
          },
          "metadata": {
            "needs_background": "light"
          }
        }
      ],
      "source": [
        "img, hour, minute= gen_clock(use_artefacts=True)\n",
        "print(hour,\":\", minute)\n",
        "plt.imshow(img)"
      ]
    },
    {
      "cell_type": "code",
      "source": [
        "from google.colab import drive\n",
        "drive.mount('/content/drive')\n",
        "os.chdir(\"drive/My Drive/\")"
      ],
      "metadata": {
        "id": "XXFMNKjDxVMY",
        "outputId": "2f201123-23a5-45dd-f7fb-ca32242324cc",
        "colab": {
          "base_uri": "https://localhost:8080/"
        }
      },
      "execution_count": 4,
      "outputs": [
        {
          "output_type": "stream",
          "name": "stdout",
          "text": [
            "Mounted at /content/drive\n"
          ]
        }
      ]
    },
    {
      "cell_type": "code",
      "execution_count": 5,
      "metadata": {
        "id": "BqAlINGX5AB0",
        "outputId": "061bb61a-85fa-4f6c-c8d7-5877e1af9052",
        "colab": {
          "base_uri": "https://localhost:8080/"
        }
      },
      "outputs": [
        {
          "output_type": "stream",
          "name": "stdout",
          "text": [
            "Done\n"
          ]
        }
      ],
      "source": [
        "# Generating the dataset\n",
        "#os.chdir(\"drive/My Drive/\")\n",
        "N = 20000 #size of the training set\n",
        "dir = 'CAPTCHAs_data/simulated_clocks/' # folder with training set\n",
        "index_fname = 'index_true.txt'  #log file with time values for each clock\n",
        "\n",
        "with open(dir+index_fname, 'w') as index_file:\n",
        "  for n in range(N):\n",
        "    img, hour, minute= gen_clock(use_artefacts=True)  # generate the clock 250x250\n",
        "    clock_fname = 'clocks'+str(n+100000)+'.jpeg'\n",
        "    path_hour = dir+'hour/'+str(hour)+'/'\n",
        "    path_minute = dir+'minute/'+str(minute)+'/'\n",
        "    isExistHour = os.path.exists(path_hour)\n",
        "    isExistMinute = os.path.exists(path_minute)\n",
        "    if not isExistHour:\n",
        "      os.makedirs(path_hour)\n",
        "    cv2.imwrite(path_hour+clock_fname , img) \n",
        "    if not isExistMinute:\n",
        "      os.makedirs(path_minute)\n",
        "    cv2.imwrite(path_minute+clock_fname , img) \n",
        "\n",
        "    # logging the values\n",
        "    #print('Generating clock for time: {}:{}'.format(hour,minute))\n",
        "    # Store the index string: the filename, hour, and minute\n",
        "    index_str = '{}\\t{}\\t{}\\n'.format(clock_fname, hour, minute)\n",
        "    index_file.write(index_str)\n",
        "\n",
        "print('Done')"
      ]
    },
    {
      "cell_type": "code",
      "source": [
        "import os\n",
        "file_count = 0\n",
        "for i in os.listdir(\"CAPTCHAs_data/simulated_clocks/hour/\"):\n",
        "  #print(i)\n",
        "  _, _, files = next(os.walk(\"CAPTCHAs_data/simulated_clocks/hour/\"+i))\n",
        "  file_count += len(files)\n",
        "  #print(file_count)\n",
        "print(file_count)"
      ],
      "metadata": {
        "id": "G037T-iBxV08",
        "outputId": "3b558c03-520d-4bd6-fce4-e795837579a1",
        "colab": {
          "base_uri": "https://localhost:8080/"
        }
      },
      "execution_count": 6,
      "outputs": [
        {
          "output_type": "stream",
          "name": "stdout",
          "text": [
            "67252\n"
          ]
        }
      ]
    },
    {
      "cell_type": "code",
      "source": [
        ""
      ],
      "metadata": {
        "id": "x5P2aIqGV8Bn"
      },
      "execution_count": null,
      "outputs": []
    }
  ],
  "metadata": {
    "kernelspec": {
      "display_name": "Python 3",
      "language": "python",
      "name": "python3"
    },
    "language_info": {
      "codemirror_mode": {
        "name": "ipython",
        "version": 3
      },
      "file_extension": ".py",
      "mimetype": "text/x-python",
      "name": "python",
      "nbconvert_exporter": "python",
      "pygments_lexer": "ipython3",
      "version": "3.7.4"
    },
    "colab": {
      "name": "GenClock.ipynb",
      "provenance": [],
      "machine_shape": "hm"
    },
    "accelerator": "GPU"
  },
  "nbformat": 4,
  "nbformat_minor": 0
}